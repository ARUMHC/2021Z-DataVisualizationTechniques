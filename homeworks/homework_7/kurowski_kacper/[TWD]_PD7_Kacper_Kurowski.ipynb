{
 "cells": [
  {
   "cell_type": "markdown",
   "metadata": {},
   "source": [
    "---\n",
    "# [TWD] Praca domowa 7\n",
    "## Kacper Kurowski\n",
    "---\n"
   ]
  },
  {
   "cell_type": "code",
   "execution_count": 11,
   "metadata": {},
   "outputs": [
    {
     "name": "stdout",
     "output_type": "stream",
     "text": [
      "/home/kurowskik/RStudio/TWD/lab7\n"
     ]
    }
   ],
   "source": [
    "import os\n",
    "print( os.getcwd() )\n",
    "os.chdir(\"/home/kurowskik/RStudio/TWD/lab7/\") # Dostosuj filepath by sie wczytywaly obrazki\n",
    "\n",
    "# Jezeli z jakiegos powodu nawet po probie zmiany filepath obrazi sie nie wczytuja, \n",
    "# Sa one i tak dolaczone do folderu z plikiem"
   ]
  },
  {
   "cell_type": "markdown",
   "metadata": {},
   "source": [
    "\n",
    "## Problematyczny wykres\n",
    "\n",
    "Poniższy wykres znalazłem na stronie [glos24.pl](https://glos24.pl/91-osob-zakazonych-koronawirusem-w-polsce-liczba-ciagle-rosnie-nowe-przypadki?fbclid=IwAR3VKYL4OkHnt5T6EFILJNE7BDqj2dQC9vE2mmgzn2JTpLpyFAf2Wswqdwk) (dostęp 17.10.2020). Przedstawia on liczbę potwierdzonych zakażeń wirusem SARS-COV-2 w Polsce między 24 września a 15 października.\n",
    "\n",
    "![Wykres liczby zakazeń](wykres_zakazen_2.jpg)\n",
    "\n",
    "Wykres ten nie jest opatrzony ani tytułem, ani osią pionową, na podstawie których byłoby możliwe określenie jego celu. Powyżej słupków umieszczone zostały dokładne liczby zakażeń potwierdzonych danego dnia - nie wynika to jednak ani z wykresu, ani z treści artykułu - wykres ten został do niego \"doczepiony\".\n",
    "\n",
    "Możnaby się zastanowić, czy podanie dokładnych wartości jest tutaj konieczne - wydaje się, że celem wykresu jest przedstawienie tendencji wzrostowej oraz skali a nie precyzyjnych danych. Liczby te często są przesłonięte przez czerwoną kreskę, której cel jest nieznany. Nie wiadomo, czy przedstawia ona regresję liniową, czy może trend wzrostowy widziany \"na oko\" - ten widać z samych słupków. \n",
    "\n",
    "Kolejnym zbytecznym elementem graficznym są cienie za słupkami - niczemu one nie służą. Da się również zauważyć gradient ściemniający dolną część wykresu - kolejny niepotrzebny element graficzny. Także czerwona kreska rzuca cień na resztę wykresu.\n",
    "\n",
    "# Wersja w R\n",
    "## Wczytanie danych\n",
    "\n",
    "```{r}\n",
    "zakazenia <- c(1136, 1587, 1584, 1350, 1306, 1526, 1552, 1967, 2292, 2367, 1934,\n",
    "               2006, 2236, 3003, 4280, 4739, 5300, 4178, 4394, 5068, 5626, 8099)\n",
    "daty <- as.Date( c('24.09', '25.09', '26.09', '27.09', '28.09', '29.09', '30.09', '01.10',\n",
    "                   '02.10', '03.10', '04.10', '05.10', '06.10', '07.10', '08.10', '09.10',\n",
    "                   '10.10', '11.10', '12.10', '13.10', '14.10', '15.10'),\n",
    "                 tryFormats = '%d.%m')\n",
    "dane <- data.frame(daty, zakazenia)\n",
    "```\n",
    "\n",
    "## Próba poprawienia wykresu\n",
    "\n",
    "W celu poprawienia powyższego wykresu dokonałem następujących zmian:\n",
    "\n",
    "* Dodałem tytuł wykresu\n",
    "* Dodałem oś pionową i opis co ma reprezentować\n",
    "* Usunąłem liczby powyżej słupków\n",
    "* Usunąłem czerwoną kreskę\n",
    "* Usunąłem cienie za słupkami i gradient ściemniający dół wykresu\n",
    "* Na osi x daty sprecyzowane są co drugi dzień - ułatwia to ich odczytanie\n",
    "\n",
    "```{r}\n",
    "library(ggplot2)\n",
    "\n",
    "ggplot( dane, aes(x = daty, y = zakazenia, width=0.8) ) +\n",
    "  xlab('') +\n",
    "  ylab('Liczba potwierdzonych zakażeń') +\n",
    "  ggtitle('Potwierdzone zakażenia koronawirusem w Polsce 24 wrz. - 15 paź. 2020') +\n",
    "  geom_col(fill = '#4169E1') +\n",
    "  scale_x_date( date_labels = '%d %b.', date_breaks = '2 days', expand =c(0.02, 0.02)) +\n",
    "  theme_bw() \n",
    "```\n",
    "\n",
    "![Wykres liczby zakazeń w R](wykres_zakazen_w_R.png)\n",
    "\n",
    "Utworzony w ten sposób wykres jest przejrzysty oraz wiadomo jakie dane są reprezentowane. Rzutem oka da się stwierdzić trend wzrostowy - bez czerwonej linii. Zamiast dokładnych wartości mamy ich przyblizenia - zamiast wczytywać się w liczby na każdym słupku wystarczy raz spojrzeć na oś pionową, by stwierdzić, że zakażenia liczymy już w tysiącach.\n",
    "\n",
    "# Wersja w pythonie"
   ]
  },
  {
   "cell_type": "code",
   "execution_count": 9,
   "metadata": {},
   "outputs": [],
   "source": [
    "import pandas as pd\n",
    "import seaborn as sns\n",
    "import matplotlib.pyplot as plt\n",
    "import numpy as np\n",
    "from matplotlib.ticker import (MultipleLocator, FormatStrFormatter,\n",
    "                               AutoMinorLocator)"
   ]
  },
  {
   "cell_type": "code",
   "execution_count": 10,
   "metadata": {},
   "outputs": [
    {
     "data": {
      "image/png": "[encoded data removed]",
      "text/plain": [
       "<Figure size 1440x720 with 1 Axes>"
      ]
     },
     "metadata": {
      "needs_background": "light"
     },
     "output_type": "display_data"
    }
   ],
   "source": [
    "zakazenia = [1136, 1587, 1584, 1350, 1306, 1526, 1552, 1967, 2292, 2367, 1934,\n",
    "               2006, 2236, 3003, 4280, 4739, 5300, 4178, 4394, 5068, 5626, 8099]\n",
    "daty = ['24 wrz.', '25 wrz.', '26 wrz.', '27 wrz.', '28 wrz.', '29 wrz.', '30 wrz.', '01 paź.',\n",
    "                   '02 paź.', '03 paź.', '04 paź.', '05 paź.', '06 paź.', '07 paź.', '08 paź.', '09 paź.',\n",
    "                   '10 paź.', '11paź.', '12 paź.', '13 paź.', '14 paź.', '15 paź.']\n",
    "dane = pd.Series(daty, zakazenia).to_frame().reset_index()\n",
    "dane.columns = [\"nowe zakażenia\", \"data\"]\n",
    "\n",
    "\n",
    "\n",
    "barp = dane.plot.bar(x = \"data\",\n",
    "                     y = \"nowe zakażenia\",\n",
    "                     figsize = (20,10),\n",
    "                     width = 0.7,\n",
    "                     legend = False,\n",
    "                     rot = 0)\n",
    "\n",
    "plt.xlabel(\"\")\n",
    "plt.ylabel(\"Nowe zakażenia\", fontsize = 15)\n",
    "\n",
    "new_ticks = np.linspace(0, 21, 22)       # 0.0, 0.1, 0.2, ..., 1.0\n",
    "barp.xaxis.grid( False)\n",
    "\n",
    "barp.yaxis.grid( True, alpha = 0.5)\n",
    "\n",
    "barp.spines['top'].set_visible(False)\n",
    "barp.spines['right'].set_visible(False)\n",
    "barp.spines['left'].set_visible(False)\n",
    "\n",
    "plt.title(\"Potwierdzone zakażenia koronawirusem w Polsce 24 wrz. - 15 paź. 2020\", fontsize = 20)\n",
    "plt.show()"
   ]
  },
  {
   "cell_type": "markdown",
   "metadata": {},
   "source": [
    "Jedną z uwag do poprzedniego wykresu było podniesienie poziomu 0, które jest automatycznie wstawiane w ggplot2. W pythonie ten problem nie występuje - słupki zaczynajace się od zera nie sugerują jakby zaczynały się wyżej. Innym problemem było występowanie pionowych kresek na wykresie, które niczemu nie służą - zostały one odjęte na wykresie pythonowskim.\n",
    "\n",
    "Innymi zmianami, które wprowadziłem są: umieszczenie wszystkich punktów czasowych na osi $x$ oraz zabranie ramek wykresu oprócz dolnej."
   ]
  }
 ],
 "metadata": {
  "kernelspec": {
   "display_name": "Python 3",
   "language": "python",
   "name": "python3"
  },
  "language_info": {
   "codemirror_mode": {
    "name": "ipython",
    "version": 3
   },
   "file_extension": ".py",
   "mimetype": "text/x-python",
   "name": "python",
   "nbconvert_exporter": "python",
   "pygments_lexer": "ipython3",
   "version": "3.8.3"
  }
 },
 "nbformat": 4,
 "nbformat_minor": 4
}
